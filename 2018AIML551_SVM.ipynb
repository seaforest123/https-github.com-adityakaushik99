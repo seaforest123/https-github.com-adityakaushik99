{
 "cells": [
  {
   "cell_type": "markdown",
   "metadata": {},
   "source": [
    "Import the libraries \t\t\t\t\t\t\t[1M]"
   ]
  },
  {
   "cell_type": "code",
   "execution_count": 1,
   "metadata": {},
   "outputs": [],
   "source": [
    "import numpy as np\n",
    "import pandas as pd\n",
    "import matplotlib.pyplot as plt\n",
    "from sklearn.model_selection import train_test_split\n",
    "from sklearn.svm import SVC\n",
    "from sklearn.metrics import confusion_matrix\n",
    "from sklearn.metrics import classification_report\n",
    "plt.style.use('ggplot')\n",
    "from sklearn.externals.six import StringIO\n",
    "from IPython.display import Image\n",
    "from sklearn.tree import export_graphviz\n",
    "from sklearn import metrics\n",
    "import pydotplus\n",
    "import numpy as np\n",
    "import matplotlib.pyplot as plt\n",
    "import pandas as pd\n"
   ]
  },
  {
   "cell_type": "markdown",
   "metadata": {},
   "source": [
    "a)\tLoad and split the data\t\t \t\t\t\t\t[1M]"
   ]
  },
  {
   "cell_type": "code",
   "execution_count": 2,
   "metadata": {},
   "outputs": [
    {
     "data": {
      "text/plain": [
       "(583, 11)"
      ]
     },
     "execution_count": 2,
     "metadata": {},
     "output_type": "execute_result"
    }
   ],
   "source": [
    "#Load the dataset\n",
    "df = pd.read_csv('liver_disease_.csv')\n",
    "df.shape"
   ]
  },
  {
   "cell_type": "code",
   "execution_count": 3,
   "metadata": {},
   "outputs": [
    {
     "data": {
      "text/plain": [
       "(579, 11)"
      ]
     },
     "execution_count": 3,
     "metadata": {},
     "output_type": "execute_result"
    }
   ],
   "source": [
    "df= df.dropna()\n",
    "df.shape"
   ]
  },
  {
   "cell_type": "code",
   "execution_count": 4,
   "metadata": {},
   "outputs": [],
   "source": [
    "df[\"Gender\"] = df[\"Gender\"].astype('category').cat.codes\n",
    "df[\"Dataset\"] = np.where(df['Dataset'].str.contains('Yes'), 1, 0)"
   ]
  },
  {
   "cell_type": "code",
   "execution_count": 5,
   "metadata": {},
   "outputs": [],
   "source": [
    "#Let's create numpy arrays for features and target\n",
    "X = df.drop('Dataset',axis=1).values\n",
    "y = df['Dataset'].values"
   ]
  },
  {
   "cell_type": "code",
   "execution_count": 6,
   "metadata": {},
   "outputs": [],
   "source": [
    "#Split the dataset into train and test with stratification\n",
    "X_train,X_test,y_train,y_test = train_test_split(X,y,test_size=0.3,random_state=42, stratify=y)"
   ]
  },
  {
   "cell_type": "markdown",
   "metadata": {},
   "source": [
    "b)\tImplement SVM Classifier with 4 different kernels  (Linear, RBF, Gaussian and Polynomial)"
   ]
  },
  {
   "cell_type": "code",
   "execution_count": 7,
   "metadata": {},
   "outputs": [
    {
     "name": "stdout",
     "output_type": "stream",
     "text": [
      "Linear SVM Score :  0.7126436781609196\n"
     ]
    }
   ],
   "source": [
    "from sklearn.svm import SVC\n",
    "svclassifier = SVC(kernel='linear')\n",
    "svclassifier.fit(X_train, y_train)\n",
    "print (\"Linear SVM Score : \",svclassifier.score(X_test,y_test))\n"
   ]
  },
  {
   "cell_type": "code",
   "execution_count": 8,
   "metadata": {},
   "outputs": [
    {
     "name": "stdout",
     "output_type": "stream",
     "text": [
      "Poly kernel SVM Score :  0.5229885057471264\n"
     ]
    },
    {
     "name": "stderr",
     "output_type": "stream",
     "text": [
      "D:\\ProgramData\\Anaconda3\\lib\\site-packages\\sklearn\\svm\\base.py:196: FutureWarning: The default value of gamma will change from 'auto' to 'scale' in version 0.22 to account better for unscaled features. Set gamma explicitly to 'auto' or 'scale' to avoid this warning.\n",
      "  \"avoid this warning.\", FutureWarning)\n"
     ]
    }
   ],
   "source": [
    "from sklearn.svm import SVC\n",
    "polysvclassifier =  SVC(kernel='poly', degree=8)\n",
    "polysvclassifier.fit(X_train, y_train)\n",
    "print (\"Poly kernel SVM Score : \",polysvclassifier.score(X_test,y_test))\n"
   ]
  },
  {
   "cell_type": "code",
   "execution_count": 9,
   "metadata": {},
   "outputs": [
    {
     "name": "stdout",
     "output_type": "stream",
     "text": [
      "Gaussian kernel SVM Score :  0.7183908045977011\n"
     ]
    },
    {
     "name": "stderr",
     "output_type": "stream",
     "text": [
      "D:\\ProgramData\\Anaconda3\\lib\\site-packages\\sklearn\\svm\\base.py:196: FutureWarning: The default value of gamma will change from 'auto' to 'scale' in version 0.22 to account better for unscaled features. Set gamma explicitly to 'auto' or 'scale' to avoid this warning.\n",
      "  \"avoid this warning.\", FutureWarning)\n"
     ]
    }
   ],
   "source": [
    "from sklearn.svm import SVC\n",
    "gausssiansvclassifier = SVC(kernel='rbf')\n",
    "gausssiansvclassifier.fit(X_train, y_train)\n",
    "print (\"Gaussian kernel SVM Score : \",gausssiansvclassifier.score(X_test,y_test))\n"
   ]
  },
  {
   "cell_type": "markdown",
   "metadata": {},
   "source": [
    "c)\tCalculate accuracy measures (Precision/Recall/F1/CM)\t\t\t[1M]\t"
   ]
  },
  {
   "cell_type": "code",
   "execution_count": 10,
   "metadata": {},
   "outputs": [],
   "source": [
    "def report(classifierName, classifier ):\n",
    "    y_pred_ = classifier.predict(X_test) \n",
    "    print(classifierName, \" Kernel Based accuracy measures : \")\n",
    "    print (\"Linear SVM Score : \",classifier.score(X_test,y_test))\n",
    "    print(\"Confusion Matrix : \")\n",
    "    print(confusion_matrix(y_test,y_pred_))\n",
    "    print(classification_report(y_test,y_pred_))\n",
    "    ##pd.crosstab(y_test, y_pred, rownames=['Actual'], colnames=['Predicted'], margins=True)\n",
    "    \n",
    "    "
   ]
  },
  {
   "cell_type": "code",
   "execution_count": 11,
   "metadata": {},
   "outputs": [
    {
     "name": "stdout",
     "output_type": "stream",
     "text": [
      "Linear  Kernel Based accuracy measures : \n",
      "Linear SVM Score :  0.7126436781609196\n",
      "Confusion Matrix : \n",
      "[[  0  50]\n",
      " [  0 124]]\n",
      "              precision    recall  f1-score   support\n",
      "\n",
      "           0       0.00      0.00      0.00        50\n",
      "           1       0.71      1.00      0.83       124\n",
      "\n",
      "   micro avg       0.71      0.71      0.71       174\n",
      "   macro avg       0.36      0.50      0.42       174\n",
      "weighted avg       0.51      0.71      0.59       174\n",
      "\n",
      "Gaussian  Kernel Based accuracy measures : \n",
      "Linear SVM Score :  0.7183908045977011\n",
      "Confusion Matrix : \n",
      "[[  1  49]\n",
      " [  0 124]]\n",
      "              precision    recall  f1-score   support\n",
      "\n",
      "           0       1.00      0.02      0.04        50\n",
      "           1       0.72      1.00      0.84       124\n",
      "\n",
      "   micro avg       0.72      0.72      0.72       174\n",
      "   macro avg       0.86      0.51      0.44       174\n",
      "weighted avg       0.80      0.72      0.61       174\n",
      "\n",
      "Polynomial  Kernel Based accuracy measures : \n",
      "Linear SVM Score :  0.5229885057471264\n",
      "Confusion Matrix : \n",
      "[[ 8 42]\n",
      " [41 83]]\n",
      "              precision    recall  f1-score   support\n",
      "\n",
      "           0       0.16      0.16      0.16        50\n",
      "           1       0.66      0.67      0.67       124\n",
      "\n",
      "   micro avg       0.52      0.52      0.52       174\n",
      "   macro avg       0.41      0.41      0.41       174\n",
      "weighted avg       0.52      0.52      0.52       174\n",
      "\n"
     ]
    },
    {
     "name": "stderr",
     "output_type": "stream",
     "text": [
      "D:\\ProgramData\\Anaconda3\\lib\\site-packages\\sklearn\\metrics\\classification.py:1143: UndefinedMetricWarning: Precision and F-score are ill-defined and being set to 0.0 in labels with no predicted samples.\n",
      "  'precision', 'predicted', average, warn_for)\n"
     ]
    }
   ],
   "source": [
    "report('Linear',svclassifier)\n",
    "report('Gaussian',gausssiansvclassifier)\n",
    "report('Polynomial',polysvclassifier)\n",
    "\n"
   ]
  },
  {
   "cell_type": "code",
   "execution_count": null,
   "metadata": {},
   "outputs": [],
   "source": []
  }
 ],
 "metadata": {
  "kernelspec": {
   "display_name": "Python 3",
   "language": "python",
   "name": "python3"
  },
  "language_info": {
   "codemirror_mode": {
    "name": "ipython",
    "version": 3
   },
   "file_extension": ".py",
   "mimetype": "text/x-python",
   "name": "python",
   "nbconvert_exporter": "python",
   "pygments_lexer": "ipython3",
   "version": "3.7.3"
  }
 },
 "nbformat": 4,
 "nbformat_minor": 2
}
